{
 "cells": [
  {
   "cell_type": "code",
   "execution_count": 54,
   "metadata": {},
   "outputs": [],
   "source": [
    "DATA_PATH = '/mnt/store/spam-data/'\n",
    "train_data_dir = DATA_PATH + 'train/'\n",
    "valid_data_dir = DATA_PATH + 'test/'"
   ]
  },
  {
   "cell_type": "code",
   "execution_count": 55,
   "metadata": {},
   "outputs": [],
   "source": [
    "from keras.layers import Conv2D, MaxPooling2D, ZeroPadding2D\n",
    "from keras.layers import Dense, Activation, Dropout, Flatten\n",
    "from keras import optimizers\n",
    "from keras.models import Sequential\n",
    "from keras.preprocessing.image import ImageDataGenerator\n",
    "import numpy as np "
   ]
  },
  {
   "cell_type": "code",
   "execution_count": 56,
   "metadata": {},
   "outputs": [],
   "source": [
    "img_width = 150\n",
    "img_height = 150"
   ]
  },
  {
   "cell_type": "code",
   "execution_count": 57,
   "metadata": {},
   "outputs": [],
   "source": [
    "nb_train_samples = 2000\n",
    "nb_validation_samples = 800\n",
    "epochs = 5\n",
    "batch_size = 16"
   ]
  },
  {
   "cell_type": "code",
   "execution_count": 58,
   "metadata": {},
   "outputs": [],
   "source": [
    "datagen = ImageDataGenerator(rescale = 1./255)"
   ]
  },
  {
   "cell_type": "code",
   "execution_count": 59,
   "metadata": {},
   "outputs": [
    {
     "name": "stdout",
     "output_type": "stream",
     "text": [
      "Found 1907 images belonging to 2 classes.\n",
      "Found 399 images belonging to 2 classes.\n"
     ]
    }
   ],
   "source": [
    "train_generator = datagen.flow_from_directory(directory=train_data_dir,\n",
    "    target_size=(img_width,img_height),\n",
    "    classes=['ham','spam'],\n",
    "    class_mode='binary',\n",
    "    batch_size=16)\n",
    "\n",
    "validation_generator = datagen.flow_from_directory(directory=valid_data_dir,\n",
    "    target_size=(img_width,img_height),\n",
    "    classes=['ham','spam'],\n",
    "    class_mode='binary',\n",
    "    batch_size=32)"
   ]
  },
  {
   "cell_type": "code",
   "execution_count": 60,
   "metadata": {},
   "outputs": [
    {
     "name": "stdout",
     "output_type": "stream",
     "text": [
      "WARNING:tensorflow:From /opt/miniconda3/envs/ai/lib/python3.6/site-packages/keras/backend/tensorflow_backend.py:3445: calling dropout (from tensorflow.python.ops.nn_ops) with keep_prob is deprecated and will be removed in a future version.\n",
      "Instructions for updating:\n",
      "Please use `rate` instead of `keep_prob`. Rate should be set to `rate = 1 - keep_prob`.\n"
     ]
    }
   ],
   "source": [
    "model =Sequential()\n",
    "\n",
    "model.add(Conv2D(32,(3,3), input_shape=(img_width, img_height, 3)))\n",
    "model.add(Activation('relu'))\n",
    "model.add(MaxPooling2D(pool_size=(2,2)))\n",
    "\n",
    "model.add(Conv2D(32,(3,3), input_shape=(img_width, img_height, 3)))\n",
    "model.add(Activation('relu'))\n",
    "model.add(MaxPooling2D(pool_size=(2,2)))\n",
    "\n",
    "model.add(Conv2D(64,(3,3), input_shape=(img_width, img_height, 3)))\n",
    "model.add(Activation('relu'))\n",
    "model.add(MaxPooling2D(pool_size=(2,2)))\n",
    "\n",
    "model.add(Flatten())\n",
    "model.add(Dense(64))\n",
    "model.add(Activation('relu'))\n",
    "model.add(Dropout(0.5))\n",
    "model.add(Dense(1))\n",
    "model.add(Activation('sigmoid'))"
   ]
  },
  {
   "cell_type": "code",
   "execution_count": 61,
   "metadata": {},
   "outputs": [],
   "source": [
    "model.compile(loss='binary_crossentropy',optimizer='rmsprop',metrics=['accuracy'])"
   ]
  },
  {
   "cell_type": "code",
   "execution_count": 62,
   "metadata": {},
   "outputs": [
    {
     "name": "stdout",
     "output_type": "stream",
     "text": [
      "WARNING:tensorflow:From /opt/miniconda3/envs/ai/lib/python3.6/site-packages/tensorflow/python/ops/math_ops.py:3066: to_int32 (from tensorflow.python.ops.math_ops) is deprecated and will be removed in a future version.\n",
      "Instructions for updating:\n",
      "Use tf.cast instead.\n",
      "Epoch 1/20\n",
      "128/128 [==============================] - 42s 329ms/step - loss: 0.5870 - acc: 0.7261 - val_loss: 0.4498 - val_acc: 0.7619\n",
      "Epoch 2/20\n",
      "128/128 [==============================] - 28s 219ms/step - loss: 0.4198 - acc: 0.8236 - val_loss: 0.2528 - val_acc: 0.8922\n",
      "Epoch 3/20\n",
      "128/128 [==============================] - 31s 242ms/step - loss: 0.3402 - acc: 0.8686 - val_loss: 0.2093 - val_acc: 0.9123\n",
      "Epoch 4/20\n",
      "128/128 [==============================] - 31s 241ms/step - loss: 0.2800 - acc: 0.8830 - val_loss: 0.2403 - val_acc: 0.8847\n",
      "Epoch 5/20\n",
      "128/128 [==============================] - 29s 227ms/step - loss: 0.2818 - acc: 0.8914 - val_loss: 0.3290 - val_acc: 0.8496\n",
      "Epoch 6/20\n",
      "128/128 [==============================] - 31s 240ms/step - loss: 0.2563 - acc: 0.8989 - val_loss: 0.1939 - val_acc: 0.8972\n",
      "Epoch 7/20\n",
      "128/128 [==============================] - 31s 242ms/step - loss: 0.2076 - acc: 0.9214 - val_loss: 0.4634 - val_acc: 0.8797\n",
      "Epoch 8/20\n",
      "128/128 [==============================] - 28s 218ms/step - loss: 0.1874 - acc: 0.9346 - val_loss: 0.1842 - val_acc: 0.9198\n",
      "Epoch 9/20\n",
      "128/128 [==============================] - 31s 242ms/step - loss: 0.1754 - acc: 0.9409 - val_loss: 0.2380 - val_acc: 0.8897\n",
      "Epoch 10/20\n",
      "128/128 [==============================] - 31s 240ms/step - loss: 0.1541 - acc: 0.9492 - val_loss: 0.3260 - val_acc: 0.8872\n",
      "Epoch 11/20\n",
      "128/128 [==============================] - 30s 232ms/step - loss: 0.1496 - acc: 0.9507 - val_loss: 0.2582 - val_acc: 0.9223\n",
      "Epoch 12/20\n",
      "128/128 [==============================] - 31s 238ms/step - loss: 0.1373 - acc: 0.9544 - val_loss: 0.2847 - val_acc: 0.9248\n",
      "Epoch 13/20\n",
      "128/128 [==============================] - 31s 243ms/step - loss: 0.1242 - acc: 0.9590 - val_loss: 0.2264 - val_acc: 0.9248\n",
      "Epoch 14/20\n",
      "128/128 [==============================] - 31s 241ms/step - loss: 0.1026 - acc: 0.9668 - val_loss: 0.8745 - val_acc: 0.8997\n",
      "Epoch 15/20\n",
      "128/128 [==============================] - 32s 252ms/step - loss: 0.1092 - acc: 0.9623 - val_loss: 0.2102 - val_acc: 0.9323\n",
      "Epoch 16/20\n",
      "128/128 [==============================] - 32s 250ms/step - loss: 0.1057 - acc: 0.9686 - val_loss: 0.3829 - val_acc: 0.9248\n",
      "Epoch 17/20\n",
      "128/128 [==============================] - 31s 238ms/step - loss: 0.1142 - acc: 0.9673 - val_loss: 0.3183 - val_acc: 0.9073\n",
      "Epoch 18/20\n",
      "128/128 [==============================] - 31s 241ms/step - loss: 0.0805 - acc: 0.9751 - val_loss: 0.3374 - val_acc: 0.9298\n",
      "Epoch 19/20\n",
      "128/128 [==============================] - 32s 247ms/step - loss: 0.0782 - acc: 0.9785 - val_loss: 0.3679 - val_acc: 0.8897\n",
      "Epoch 20/20\n",
      "128/128 [==============================] - 29s 225ms/step - loss: 0.0849 - acc: 0.9731 - val_loss: 0.3588 - val_acc: 0.9323\n"
     ]
    }
   ],
   "source": [
    "training = model.fit_generator(generator=train_generator, steps_per_epoch=2048 // 16,epochs=20,validation_data=validation_generator,validation_steps=832//16)"
   ]
  },
  {
   "cell_type": "code",
   "execution_count": 63,
   "metadata": {},
   "outputs": [],
   "source": [
    "model.save_weights('models/image_model_saved.h5')"
   ]
  },
  {
   "cell_type": "code",
   "execution_count": 65,
   "metadata": {},
   "outputs": [],
   "source": [
    "model.load_weights('models/image_model_saved.h5')"
   ]
  },
  {
   "cell_type": "code",
   "execution_count": null,
   "metadata": {},
   "outputs": [],
   "source": []
  }
 ],
 "metadata": {
  "kernelspec": {
   "display_name": "ai",
   "language": "python",
   "name": "ai"
  },
  "language_info": {
   "codemirror_mode": {
    "name": "ipython",
    "version": 3
   },
   "file_extension": ".py",
   "mimetype": "text/x-python",
   "name": "python",
   "nbconvert_exporter": "python",
   "pygments_lexer": "ipython3",
   "version": "3.6.8"
  }
 },
 "nbformat": 4,
 "nbformat_minor": 2
}
